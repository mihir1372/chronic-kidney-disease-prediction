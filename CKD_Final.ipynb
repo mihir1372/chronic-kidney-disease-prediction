{
  "cells": [
    {
      "cell_type": "markdown",
      "source": [
        "# Data Reading"
      ],
      "metadata": {
        "id": "v7sGShKmqnO4"
      }
    },
    {
      "cell_type": "code",
      "execution_count": 1,
      "metadata": {
        "id": "vhlJQHD6Y4YX"
      },
      "outputs": [],
      "source": [
        "import numpy as np\n",
        "import pandas as pd\n",
        "import matplotlib.pyplot as plt"
      ]
    },
    {
      "cell_type": "code",
      "execution_count": 2,
      "metadata": {
        "id": "DRu1AJ_YZSoX"
      },
      "outputs": [],
      "source": [
        "dataset=pd.read_csv('kidney-disease-balanced.csv')"
      ]
    },
    {
      "cell_type": "code",
      "execution_count": 3,
      "metadata": {
        "colab": {
          "base_uri": "https://localhost:8080/",
          "height": 423
        },
        "id": "NoLNPeqXZUxW",
        "outputId": "7790ee0c-f882-4f04-d51f-df6541cde5f6"
      },
      "outputs": [
        {
          "output_type": "execute_result",
          "data": {
            "text/plain": [
              "             0          1         2    3    4         5  6  7  8           9  \\\n",
              "0    48.000000  80.000000  1.020000  1.0  0.0  0.810484  1  0  0  121.000000   \n",
              "1     7.000000  50.000000  1.020000  4.0  0.0  0.810484  1  0  0   99.000000   \n",
              "2    62.000000  80.000000  1.010000  2.0  3.0  1.000000  1  0  0  423.000000   \n",
              "3    48.000000  70.000000  1.005000  4.0  0.0  1.000000  0  1  0  117.000000   \n",
              "4    51.000000  80.000000  1.010000  2.0  0.0  1.000000  1  0  0  106.000000   \n",
              "..         ...        ...       ...  ...  ...       ... .. .. ..         ...   \n",
              "495  60.000000  71.152866  1.020576  0.0  0.0  1.000000  1  0  0  102.689170   \n",
              "496  66.827375  61.804039  1.024549  0.0  0.0  1.000000  1  0  0  126.353029   \n",
              "497  25.447789  70.000000  1.025000  0.0  0.0  0.994162  1  0  0  138.120954   \n",
              "498  56.469753  63.202846  1.025000  0.0  0.0  1.000000  1  0  0  116.992884   \n",
              "499  48.252214  76.754848  1.023377  0.0  0.0  1.000000  1  0  0  118.589059   \n",
              "\n",
              "     ...         14         15            16        17   18  19  20  21  22  \\\n",
              "0    ...  15.400000  44.000000   7800.000000  5.200000  1.0   1   0   1   0   \n",
              "1    ...  11.300000  38.000000   6000.000000  4.707435  0.0   0   0   1   0   \n",
              "2    ...   9.600000  31.000000   7500.000000  4.707435  0.0   1   0   0   0   \n",
              "3    ...  11.200000  32.000000   6700.000000  3.900000  1.0   0   0   0   1   \n",
              "4    ...  11.600000  35.000000   7300.000000  4.600000  0.0   0   0   1   0   \n",
              "..   ...        ...        ...           ...       ...  ...  ..  ..  ..  ..   \n",
              "495  ...  16.180956  42.769427  10788.471340  5.630828  0.0   0   0   1   0   \n",
              "496  ...  17.246657  49.729394   6700.000000  5.991758  0.0   0   0   1   0   \n",
              "497  ...  16.309241  47.753568   5800.000000  5.609241  0.0   0   0   1   0   \n",
              "498  ...  16.407118  47.758008   6700.000000  6.035943  0.0   0   0   1   0   \n",
              "499  ...  13.813933  45.973546   6232.451519  5.019224  0.0   0   0   1   0   \n",
              "\n",
              "     23  \n",
              "0     0  \n",
              "1     0  \n",
              "2     1  \n",
              "3     1  \n",
              "4     0  \n",
              "..   ..  \n",
              "495   0  \n",
              "496   0  \n",
              "497   0  \n",
              "498   0  \n",
              "499   0  \n",
              "\n",
              "[500 rows x 24 columns]"
            ],
            "text/html": [
              "\n",
              "  <div id=\"df-fe20f657-f0d6-4bba-9bc3-fde5c1d1fcbf\">\n",
              "    <div class=\"colab-df-container\">\n",
              "      <div>\n",
              "<style scoped>\n",
              "    .dataframe tbody tr th:only-of-type {\n",
              "        vertical-align: middle;\n",
              "    }\n",
              "\n",
              "    .dataframe tbody tr th {\n",
              "        vertical-align: top;\n",
              "    }\n",
              "\n",
              "    .dataframe thead th {\n",
              "        text-align: right;\n",
              "    }\n",
              "</style>\n",
              "<table border=\"1\" class=\"dataframe\">\n",
              "  <thead>\n",
              "    <tr style=\"text-align: right;\">\n",
              "      <th></th>\n",
              "      <th>0</th>\n",
              "      <th>1</th>\n",
              "      <th>2</th>\n",
              "      <th>3</th>\n",
              "      <th>4</th>\n",
              "      <th>5</th>\n",
              "      <th>6</th>\n",
              "      <th>7</th>\n",
              "      <th>8</th>\n",
              "      <th>9</th>\n",
              "      <th>...</th>\n",
              "      <th>14</th>\n",
              "      <th>15</th>\n",
              "      <th>16</th>\n",
              "      <th>17</th>\n",
              "      <th>18</th>\n",
              "      <th>19</th>\n",
              "      <th>20</th>\n",
              "      <th>21</th>\n",
              "      <th>22</th>\n",
              "      <th>23</th>\n",
              "    </tr>\n",
              "  </thead>\n",
              "  <tbody>\n",
              "    <tr>\n",
              "      <th>0</th>\n",
              "      <td>48.000000</td>\n",
              "      <td>80.000000</td>\n",
              "      <td>1.020000</td>\n",
              "      <td>1.0</td>\n",
              "      <td>0.0</td>\n",
              "      <td>0.810484</td>\n",
              "      <td>1</td>\n",
              "      <td>0</td>\n",
              "      <td>0</td>\n",
              "      <td>121.000000</td>\n",
              "      <td>...</td>\n",
              "      <td>15.400000</td>\n",
              "      <td>44.000000</td>\n",
              "      <td>7800.000000</td>\n",
              "      <td>5.200000</td>\n",
              "      <td>1.0</td>\n",
              "      <td>1</td>\n",
              "      <td>0</td>\n",
              "      <td>1</td>\n",
              "      <td>0</td>\n",
              "      <td>0</td>\n",
              "    </tr>\n",
              "    <tr>\n",
              "      <th>1</th>\n",
              "      <td>7.000000</td>\n",
              "      <td>50.000000</td>\n",
              "      <td>1.020000</td>\n",
              "      <td>4.0</td>\n",
              "      <td>0.0</td>\n",
              "      <td>0.810484</td>\n",
              "      <td>1</td>\n",
              "      <td>0</td>\n",
              "      <td>0</td>\n",
              "      <td>99.000000</td>\n",
              "      <td>...</td>\n",
              "      <td>11.300000</td>\n",
              "      <td>38.000000</td>\n",
              "      <td>6000.000000</td>\n",
              "      <td>4.707435</td>\n",
              "      <td>0.0</td>\n",
              "      <td>0</td>\n",
              "      <td>0</td>\n",
              "      <td>1</td>\n",
              "      <td>0</td>\n",
              "      <td>0</td>\n",
              "    </tr>\n",
              "    <tr>\n",
              "      <th>2</th>\n",
              "      <td>62.000000</td>\n",
              "      <td>80.000000</td>\n",
              "      <td>1.010000</td>\n",
              "      <td>2.0</td>\n",
              "      <td>3.0</td>\n",
              "      <td>1.000000</td>\n",
              "      <td>1</td>\n",
              "      <td>0</td>\n",
              "      <td>0</td>\n",
              "      <td>423.000000</td>\n",
              "      <td>...</td>\n",
              "      <td>9.600000</td>\n",
              "      <td>31.000000</td>\n",
              "      <td>7500.000000</td>\n",
              "      <td>4.707435</td>\n",
              "      <td>0.0</td>\n",
              "      <td>1</td>\n",
              "      <td>0</td>\n",
              "      <td>0</td>\n",
              "      <td>0</td>\n",
              "      <td>1</td>\n",
              "    </tr>\n",
              "    <tr>\n",
              "      <th>3</th>\n",
              "      <td>48.000000</td>\n",
              "      <td>70.000000</td>\n",
              "      <td>1.005000</td>\n",
              "      <td>4.0</td>\n",
              "      <td>0.0</td>\n",
              "      <td>1.000000</td>\n",
              "      <td>0</td>\n",
              "      <td>1</td>\n",
              "      <td>0</td>\n",
              "      <td>117.000000</td>\n",
              "      <td>...</td>\n",
              "      <td>11.200000</td>\n",
              "      <td>32.000000</td>\n",
              "      <td>6700.000000</td>\n",
              "      <td>3.900000</td>\n",
              "      <td>1.0</td>\n",
              "      <td>0</td>\n",
              "      <td>0</td>\n",
              "      <td>0</td>\n",
              "      <td>1</td>\n",
              "      <td>1</td>\n",
              "    </tr>\n",
              "    <tr>\n",
              "      <th>4</th>\n",
              "      <td>51.000000</td>\n",
              "      <td>80.000000</td>\n",
              "      <td>1.010000</td>\n",
              "      <td>2.0</td>\n",
              "      <td>0.0</td>\n",
              "      <td>1.000000</td>\n",
              "      <td>1</td>\n",
              "      <td>0</td>\n",
              "      <td>0</td>\n",
              "      <td>106.000000</td>\n",
              "      <td>...</td>\n",
              "      <td>11.600000</td>\n",
              "      <td>35.000000</td>\n",
              "      <td>7300.000000</td>\n",
              "      <td>4.600000</td>\n",
              "      <td>0.0</td>\n",
              "      <td>0</td>\n",
              "      <td>0</td>\n",
              "      <td>1</td>\n",
              "      <td>0</td>\n",
              "      <td>0</td>\n",
              "    </tr>\n",
              "    <tr>\n",
              "      <th>...</th>\n",
              "      <td>...</td>\n",
              "      <td>...</td>\n",
              "      <td>...</td>\n",
              "      <td>...</td>\n",
              "      <td>...</td>\n",
              "      <td>...</td>\n",
              "      <td>...</td>\n",
              "      <td>...</td>\n",
              "      <td>...</td>\n",
              "      <td>...</td>\n",
              "      <td>...</td>\n",
              "      <td>...</td>\n",
              "      <td>...</td>\n",
              "      <td>...</td>\n",
              "      <td>...</td>\n",
              "      <td>...</td>\n",
              "      <td>...</td>\n",
              "      <td>...</td>\n",
              "      <td>...</td>\n",
              "      <td>...</td>\n",
              "      <td>...</td>\n",
              "    </tr>\n",
              "    <tr>\n",
              "      <th>495</th>\n",
              "      <td>60.000000</td>\n",
              "      <td>71.152866</td>\n",
              "      <td>1.020576</td>\n",
              "      <td>0.0</td>\n",
              "      <td>0.0</td>\n",
              "      <td>1.000000</td>\n",
              "      <td>1</td>\n",
              "      <td>0</td>\n",
              "      <td>0</td>\n",
              "      <td>102.689170</td>\n",
              "      <td>...</td>\n",
              "      <td>16.180956</td>\n",
              "      <td>42.769427</td>\n",
              "      <td>10788.471340</td>\n",
              "      <td>5.630828</td>\n",
              "      <td>0.0</td>\n",
              "      <td>0</td>\n",
              "      <td>0</td>\n",
              "      <td>1</td>\n",
              "      <td>0</td>\n",
              "      <td>0</td>\n",
              "    </tr>\n",
              "    <tr>\n",
              "      <th>496</th>\n",
              "      <td>66.827375</td>\n",
              "      <td>61.804039</td>\n",
              "      <td>1.024549</td>\n",
              "      <td>0.0</td>\n",
              "      <td>0.0</td>\n",
              "      <td>1.000000</td>\n",
              "      <td>1</td>\n",
              "      <td>0</td>\n",
              "      <td>0</td>\n",
              "      <td>126.353029</td>\n",
              "      <td>...</td>\n",
              "      <td>17.246657</td>\n",
              "      <td>49.729394</td>\n",
              "      <td>6700.000000</td>\n",
              "      <td>5.991758</td>\n",
              "      <td>0.0</td>\n",
              "      <td>0</td>\n",
              "      <td>0</td>\n",
              "      <td>1</td>\n",
              "      <td>0</td>\n",
              "      <td>0</td>\n",
              "    </tr>\n",
              "    <tr>\n",
              "      <th>497</th>\n",
              "      <td>25.447789</td>\n",
              "      <td>70.000000</td>\n",
              "      <td>1.025000</td>\n",
              "      <td>0.0</td>\n",
              "      <td>0.0</td>\n",
              "      <td>0.994162</td>\n",
              "      <td>1</td>\n",
              "      <td>0</td>\n",
              "      <td>0</td>\n",
              "      <td>138.120954</td>\n",
              "      <td>...</td>\n",
              "      <td>16.309241</td>\n",
              "      <td>47.753568</td>\n",
              "      <td>5800.000000</td>\n",
              "      <td>5.609241</td>\n",
              "      <td>0.0</td>\n",
              "      <td>0</td>\n",
              "      <td>0</td>\n",
              "      <td>1</td>\n",
              "      <td>0</td>\n",
              "      <td>0</td>\n",
              "    </tr>\n",
              "    <tr>\n",
              "      <th>498</th>\n",
              "      <td>56.469753</td>\n",
              "      <td>63.202846</td>\n",
              "      <td>1.025000</td>\n",
              "      <td>0.0</td>\n",
              "      <td>0.0</td>\n",
              "      <td>1.000000</td>\n",
              "      <td>1</td>\n",
              "      <td>0</td>\n",
              "      <td>0</td>\n",
              "      <td>116.992884</td>\n",
              "      <td>...</td>\n",
              "      <td>16.407118</td>\n",
              "      <td>47.758008</td>\n",
              "      <td>6700.000000</td>\n",
              "      <td>6.035943</td>\n",
              "      <td>0.0</td>\n",
              "      <td>0</td>\n",
              "      <td>0</td>\n",
              "      <td>1</td>\n",
              "      <td>0</td>\n",
              "      <td>0</td>\n",
              "    </tr>\n",
              "    <tr>\n",
              "      <th>499</th>\n",
              "      <td>48.252214</td>\n",
              "      <td>76.754848</td>\n",
              "      <td>1.023377</td>\n",
              "      <td>0.0</td>\n",
              "      <td>0.0</td>\n",
              "      <td>1.000000</td>\n",
              "      <td>1</td>\n",
              "      <td>0</td>\n",
              "      <td>0</td>\n",
              "      <td>118.589059</td>\n",
              "      <td>...</td>\n",
              "      <td>13.813933</td>\n",
              "      <td>45.973546</td>\n",
              "      <td>6232.451519</td>\n",
              "      <td>5.019224</td>\n",
              "      <td>0.0</td>\n",
              "      <td>0</td>\n",
              "      <td>0</td>\n",
              "      <td>1</td>\n",
              "      <td>0</td>\n",
              "      <td>0</td>\n",
              "    </tr>\n",
              "  </tbody>\n",
              "</table>\n",
              "<p>500 rows × 24 columns</p>\n",
              "</div>\n",
              "      <button class=\"colab-df-convert\" onclick=\"convertToInteractive('df-fe20f657-f0d6-4bba-9bc3-fde5c1d1fcbf')\"\n",
              "              title=\"Convert this dataframe to an interactive table.\"\n",
              "              style=\"display:none;\">\n",
              "        \n",
              "  <svg xmlns=\"http://www.w3.org/2000/svg\" height=\"24px\"viewBox=\"0 0 24 24\"\n",
              "       width=\"24px\">\n",
              "    <path d=\"M0 0h24v24H0V0z\" fill=\"none\"/>\n",
              "    <path d=\"M18.56 5.44l.94 2.06.94-2.06 2.06-.94-2.06-.94-.94-2.06-.94 2.06-2.06.94zm-11 1L8.5 8.5l.94-2.06 2.06-.94-2.06-.94L8.5 2.5l-.94 2.06-2.06.94zm10 10l.94 2.06.94-2.06 2.06-.94-2.06-.94-.94-2.06-.94 2.06-2.06.94z\"/><path d=\"M17.41 7.96l-1.37-1.37c-.4-.4-.92-.59-1.43-.59-.52 0-1.04.2-1.43.59L10.3 9.45l-7.72 7.72c-.78.78-.78 2.05 0 2.83L4 21.41c.39.39.9.59 1.41.59.51 0 1.02-.2 1.41-.59l7.78-7.78 2.81-2.81c.8-.78.8-2.07 0-2.86zM5.41 20L4 18.59l7.72-7.72 1.47 1.35L5.41 20z\"/>\n",
              "  </svg>\n",
              "      </button>\n",
              "      \n",
              "  <style>\n",
              "    .colab-df-container {\n",
              "      display:flex;\n",
              "      flex-wrap:wrap;\n",
              "      gap: 12px;\n",
              "    }\n",
              "\n",
              "    .colab-df-convert {\n",
              "      background-color: #E8F0FE;\n",
              "      border: none;\n",
              "      border-radius: 50%;\n",
              "      cursor: pointer;\n",
              "      display: none;\n",
              "      fill: #1967D2;\n",
              "      height: 32px;\n",
              "      padding: 0 0 0 0;\n",
              "      width: 32px;\n",
              "    }\n",
              "\n",
              "    .colab-df-convert:hover {\n",
              "      background-color: #E2EBFA;\n",
              "      box-shadow: 0px 1px 2px rgba(60, 64, 67, 0.3), 0px 1px 3px 1px rgba(60, 64, 67, 0.15);\n",
              "      fill: #174EA6;\n",
              "    }\n",
              "\n",
              "    [theme=dark] .colab-df-convert {\n",
              "      background-color: #3B4455;\n",
              "      fill: #D2E3FC;\n",
              "    }\n",
              "\n",
              "    [theme=dark] .colab-df-convert:hover {\n",
              "      background-color: #434B5C;\n",
              "      box-shadow: 0px 1px 3px 1px rgba(0, 0, 0, 0.15);\n",
              "      filter: drop-shadow(0px 1px 2px rgba(0, 0, 0, 0.3));\n",
              "      fill: #FFFFFF;\n",
              "    }\n",
              "  </style>\n",
              "\n",
              "      <script>\n",
              "        const buttonEl =\n",
              "          document.querySelector('#df-fe20f657-f0d6-4bba-9bc3-fde5c1d1fcbf button.colab-df-convert');\n",
              "        buttonEl.style.display =\n",
              "          google.colab.kernel.accessAllowed ? 'block' : 'none';\n",
              "\n",
              "        async function convertToInteractive(key) {\n",
              "          const element = document.querySelector('#df-fe20f657-f0d6-4bba-9bc3-fde5c1d1fcbf');\n",
              "          const dataTable =\n",
              "            await google.colab.kernel.invokeFunction('convertToInteractive',\n",
              "                                                     [key], {});\n",
              "          if (!dataTable) return;\n",
              "\n",
              "          const docLinkHtml = 'Like what you see? Visit the ' +\n",
              "            '<a target=\"_blank\" href=https://colab.research.google.com/notebooks/data_table.ipynb>data table notebook</a>'\n",
              "            + ' to learn more about interactive tables.';\n",
              "          element.innerHTML = '';\n",
              "          dataTable['output_type'] = 'display_data';\n",
              "          await google.colab.output.renderOutput(dataTable, element);\n",
              "          const docLink = document.createElement('div');\n",
              "          docLink.innerHTML = docLinkHtml;\n",
              "          element.appendChild(docLink);\n",
              "        }\n",
              "      </script>\n",
              "    </div>\n",
              "  </div>\n",
              "  "
            ]
          },
          "metadata": {},
          "execution_count": 3
        }
      ],
      "source": [
        "X_over=dataset.iloc[:,1:-1]\n",
        "X_over"
      ]
    },
    {
      "cell_type": "code",
      "execution_count": 5,
      "metadata": {
        "colab": {
          "base_uri": "https://localhost:8080/"
        },
        "id": "-eElb_AEZbxR",
        "outputId": "c21cb0ea-a969-4108-97b3-0e3196bd368e"
      },
      "outputs": [
        {
          "output_type": "execute_result",
          "data": {
            "text/plain": [
              "0      1\n",
              "1      1\n",
              "2      1\n",
              "3      1\n",
              "4      1\n",
              "      ..\n",
              "495    0\n",
              "496    0\n",
              "497    0\n",
              "498    0\n",
              "499    0\n",
              "Name: 24, Length: 500, dtype: int64"
            ]
          },
          "metadata": {},
          "execution_count": 5
        }
      ],
      "source": [
        "y_over=dataset.iloc[:,-1]\n",
        "y_over"
      ]
    },
    {
      "cell_type": "markdown",
      "source": [
        "# Scaling and Feature Selection"
      ],
      "metadata": {
        "id": "ExP5GkgaqdMN"
      }
    },
    {
      "cell_type": "code",
      "execution_count": 6,
      "metadata": {
        "colab": {
          "base_uri": "https://localhost:8080/"
        },
        "id": "NfFTIUFCZhOv",
        "outputId": "00382275-1e5f-497c-f90e-b44fbe4d9455"
      },
      "outputs": [
        {
          "output_type": "stream",
          "name": "stdout",
          "text": [
            "MinMaxScaler()\n"
          ]
        }
      ],
      "source": [
        "from sklearn.preprocessing import MinMaxScaler\n",
        "scaler = MinMaxScaler()\n",
        "print(scaler.fit(X_over))\n",
        "X_over = scaler.transform(X_over)"
      ]
    },
    {
      "cell_type": "code",
      "execution_count": 7,
      "metadata": {
        "colab": {
          "base_uri": "https://localhost:8080/"
        },
        "id": "nNNLqZf7ZkKO",
        "outputId": "aefb81b9-4696-4120-96d1-97ff031843f6"
      },
      "outputs": [
        {
          "output_type": "execute_result",
          "data": {
            "text/plain": [
              "array([[0.75     , 0.2      , 0.       , ..., 0.       , 0.       ,\n",
              "        0.       ],\n",
              "       [0.75     , 0.8      , 0.       , ..., 0.       , 0.       ,\n",
              "        0.       ],\n",
              "       [0.25     , 0.4      , 0.6      , ..., 0.       , 0.       ,\n",
              "        1.       ],\n",
              "       ...,\n",
              "       [1.       , 0.       , 0.       , ..., 0.       , 0.       ,\n",
              "        0.       ],\n",
              "       [1.       , 0.       , 0.       , ..., 0.       , 0.       ,\n",
              "        0.       ],\n",
              "       [0.9188712, 0.       , 0.       , ..., 0.       , 0.       ,\n",
              "        0.       ]])"
            ]
          },
          "metadata": {},
          "execution_count": 7
        }
      ],
      "source": [
        "from sklearn.feature_selection import SelectKBest,chi2\n",
        "selector = SelectKBest(chi2, k=9)\n",
        "\n",
        "# Apply the SelectKBest object to the features and target\n",
        "X_new = selector.fit_transform(X_over, y_over)\n",
        "X_new"
      ]
    },
    {
      "cell_type": "code",
      "execution_count": 8,
      "metadata": {
        "colab": {
          "base_uri": "https://localhost:8080/"
        },
        "id": "zLbOqCliZn7_",
        "outputId": "bfbc95f2-b317-4ddb-f158-b9e0a343df24"
      },
      "outputs": [
        {
          "output_type": "execute_result",
          "data": {
            "text/plain": [
              "array([ 2,  3,  4,  7, 18, 19, 20, 22, 23])"
            ]
          },
          "metadata": {},
          "execution_count": 8
        }
      ],
      "source": [
        "cols = selector.get_support(indices=True)\n",
        "cols"
      ]
    },
    {
      "cell_type": "markdown",
      "source": [
        "# Train Test Split"
      ],
      "metadata": {
        "id": "Bin1MarPqYwY"
      }
    },
    {
      "cell_type": "code",
      "execution_count": 9,
      "metadata": {
        "id": "RKHrMfBaZsk_"
      },
      "outputs": [],
      "source": [
        "from sklearn.model_selection import train_test_split\n",
        "train_X, test_X, train_y, test_y = train_test_split(X_new, y_over, test_size = 0.30, random_state = 0)"
      ]
    },
    {
      "cell_type": "markdown",
      "source": [
        "# SVM"
      ],
      "metadata": {
        "id": "yXCEz_QmqV4g"
      }
    },
    {
      "cell_type": "code",
      "execution_count": 10,
      "metadata": {
        "colab": {
          "base_uri": "https://localhost:8080/"
        },
        "id": "liJMz1xOZ2yw",
        "outputId": "0162b385-b468-4e2c-80e6-91691c4dd056"
      },
      "outputs": [
        {
          "output_type": "stream",
          "name": "stdout",
          "text": [
            "Best Hyper Parameters:\n",
            " {'C': 14, 'kernel': 'rbf'}\n",
            "Accuracy: 0.9933333333333333\n"
          ]
        }
      ],
      "source": [
        "from sklearn.model_selection import GridSearchCV\n",
        "from sklearn import svm\n",
        "#making the instance\n",
        "model=svm.SVC()\n",
        "#Hyper Parameters Set\n",
        "params = {'C': [6,7,8,9,10,11,12,13,14,15,16,17],\n",
        "          'kernel': ['linear','rbf']}\n",
        "#Making models with hyper parameters sets\n",
        "model1 = GridSearchCV(model, param_grid=params, n_jobs=-1)\n",
        "#Learning\n",
        "model1.fit(train_X,train_y)\n",
        "#The best hyper parameters set\n",
        "print(\"Best Hyper Parameters:\\n\",model1.best_params_)\n",
        "#Prediction\n",
        "prediction=model1.predict(test_X)\n",
        "#importing the metrics module\n",
        "from sklearn import metrics\n",
        "#evaluation(Accuracy)\n",
        "print(\"Accuracy:\",metrics.accuracy_score(prediction,test_y))\n",
        "#evaluation(Confusion Metrix)\n",
        "# print(\"Confusion Metrix:\\n\",metrics.confusion_matrix(prediction,test_y))"
      ]
    },
    {
      "cell_type": "code",
      "source": [
        "# evaluate a logistic regression model using k-fold cross-validation\n",
        "from numpy import mean\n",
        "from numpy import std\n",
        "from sklearn.model_selection import KFold\n",
        "from sklearn.model_selection import cross_val_score\n",
        "cv = KFold(n_splits=10, random_state=42, shuffle=True)\n",
        "# create model\n",
        "# evaluate model\n",
        "scores = cross_val_score(model1, X_new, y_over, scoring='accuracy', cv=cv, n_jobs=-1)\n",
        "# report performance\n",
        "print('Accuracy: %.3f (%.3f)' % (mean(scores), std(scores)))"
      ],
      "metadata": {
        "colab": {
          "base_uri": "https://localhost:8080/"
        },
        "id": "djkWfP1QQS-k",
        "outputId": "c61af443-bea1-4fe0-a5d5-c4bbe37f736f"
      },
      "execution_count": 11,
      "outputs": [
        {
          "output_type": "stream",
          "name": "stdout",
          "text": [
            "Accuracy: 0.980 (0.022)\n"
          ]
        }
      ]
    },
    {
      "cell_type": "code",
      "execution_count": 12,
      "metadata": {
        "colab": {
          "base_uri": "https://localhost:8080/",
          "height": 439
        },
        "id": "GBD6RsM-zFNS",
        "outputId": "a0a2c729-433d-4f99-dec3-3e04081648e3"
      },
      "outputs": [
        {
          "output_type": "stream",
          "name": "stdout",
          "text": [
            "Ideal: 0.980\n",
            "> folds=2, accuracy=0.980 (0.976,0.984)\n",
            "> folds=3, accuracy=0.980 (0.970,0.988)\n",
            "> folds=4, accuracy=0.980 (0.960,0.992)\n",
            "> folds=5, accuracy=0.980 (0.970,0.990)\n",
            "> folds=6, accuracy=0.980 (0.940,1.000)\n",
            "> folds=7, accuracy=0.980 (0.958,1.000)\n",
            "> folds=8, accuracy=0.980 (0.952,1.000)\n",
            "> folds=9, accuracy=0.980 (0.946,1.000)\n",
            "> folds=10, accuracy=0.978 (0.940,1.000)\n"
          ]
        },
        {
          "output_type": "display_data",
          "data": {
            "text/plain": [
              "<Figure size 432x288 with 1 Axes>"
            ],
            "image/png": "[encoded data removed]"
          },
          "metadata": {
            "needs_background": "light"
          }
        }
      ],
      "source": [
        "from numpy import mean\n",
        "from sklearn.datasets import make_classification\n",
        "from sklearn.model_selection import LeaveOneOut\n",
        "from sklearn.model_selection import KFold\n",
        "from sklearn.model_selection import cross_val_score\n",
        "from sklearn.ensemble import RandomForestClassifier\n",
        "from matplotlib import pyplot\n",
        "\n",
        "model = GridSearchCV(model, param_grid=params, n_jobs=-1)\n",
        "# create the dataset\n",
        "def get_dataset(n_samples=100):\n",
        "\treturn X_new, y_over\n",
        " \n",
        "# retrieve the model to be evaluate\n",
        "def get_model():\n",
        "\treturn model1\n",
        " \n",
        "# evaluate the model using a given test condition\n",
        "def evaluate_model(cv):\n",
        "\t# get the dataset\n",
        "\ttrain_X, train_y = get_dataset()\n",
        "\t# get the model\n",
        "\tmodel = get_model()\n",
        "\t# evaluate the model\n",
        "\tscores = cross_val_score(model, train_X, train_y, scoring='accuracy', cv=cv, n_jobs=-1)\n",
        "\t# return scores\n",
        "\treturn mean(scores), scores.min(), scores.max()\n",
        " \n",
        "# calculate the ideal test condition\n",
        "ideal, _, _ = evaluate_model(LeaveOneOut())\n",
        "print('Ideal: %.3f' % ideal)\n",
        "# define folds to test\n",
        "folds = range(2,11)\n",
        "# record mean and min/max of each set of results\n",
        "means, mins, maxs = list(),list(),list()\n",
        "# evaluate each k value\n",
        "for k in folds:\n",
        "\t# define the test condition\n",
        "\tcv = KFold(n_splits=k, shuffle=True, random_state=1)\n",
        "\t# evaluate k value\n",
        "\tk_mean, k_min, k_max = evaluate_model(cv)\n",
        "\t# report performance\n",
        "\tprint('> folds=%d, accuracy=%.3f (%.3f,%.3f)' % (k, k_mean, k_min, k_max))\n",
        "\t# store mean accuracy\n",
        "\tmeans.append(k_mean)\n",
        "\t# store min and max relative to the mean\n",
        "\tmins.append(k_mean - k_min)\n",
        "\tmaxs.append(k_max - k_mean)\n",
        "# line plot of k mean values with min/max error bars\n",
        "pyplot.errorbar(folds, means, yerr=[mins, maxs], fmt='o')\n",
        "# plot the ideal case in a separate color\n",
        "pyplot.plot(folds, [ideal for _ in range(len(folds))], color='r')\n",
        "# show the plot\n",
        "pyplot.show()"
      ]
    },
    {
      "cell_type": "code",
      "execution_count": 13,
      "metadata": {
        "colab": {
          "base_uri": "https://localhost:8080/"
        },
        "id": "cY0O64PGZ630",
        "outputId": "a4e3f8fe-04b1-45cf-966c-29c93481d8af"
      },
      "outputs": [
        {
          "output_type": "stream",
          "name": "stdout",
          "text": [
            "Confusion Matrix :\n",
            "[[76  0]\n",
            " [ 1 73]]\n",
            "Accuracy Score is 0.9933333333333333\n",
            "Classification Report : \n",
            "              precision    recall  f1-score   support\n",
            "\n",
            "           0       0.99      1.00      0.99        76\n",
            "           1       1.00      0.99      0.99        74\n",
            "\n",
            "    accuracy                           0.99       150\n",
            "   macro avg       0.99      0.99      0.99       150\n",
            "weighted avg       0.99      0.99      0.99       150\n",
            "\n",
            "AUC-ROC: 0.9932432432432432\n",
            "LOGLOSS Value is 0.2302585092994055\n"
          ]
        }
      ],
      "source": [
        "from sklearn.metrics import confusion_matrix\n",
        "from sklearn.metrics import accuracy_score\n",
        "from sklearn.metrics import classification_report\n",
        "from sklearn.metrics import roc_auc_score\n",
        "from sklearn.metrics import log_loss\n",
        "results = confusion_matrix(test_y, prediction)\n",
        "print ('Confusion Matrix :')\n",
        "print(results)\n",
        "print ('Accuracy Score is',accuracy_score(test_y, prediction))\n",
        "print ('Classification Report : ')\n",
        "print (classification_report(test_y, prediction))\n",
        "print('AUC-ROC:',roc_auc_score(test_y, prediction))\n",
        "print('LOGLOSS Value is',log_loss(test_y, prediction))"
      ]
    },
    {
      "cell_type": "code",
      "execution_count": 14,
      "metadata": {
        "colab": {
          "base_uri": "https://localhost:8080/",
          "height": 364
        },
        "id": "HXhLAZulaeu9",
        "outputId": "eee20467-39b2-45a5-e844-8e94c8cf6ad6"
      },
      "outputs": [
        {
          "output_type": "stream",
          "name": "stdout",
          "text": [
            "Confusion Matrix : \n",
            " [[76  0]\n",
            " [ 1 73]]\n",
            "Cohen-kappa score: 0.9866619242397296\n"
          ]
        },
        {
          "output_type": "display_data",
          "data": {
            "text/plain": [
              "<Figure size 432x288 with 1 Axes>"
            ],
            "image/png": "[encoded data removed]"
          },
          "metadata": {
            "needs_background": "light"
          }
        }
      ],
      "source": [
        "from sklearn.metrics import confusion_matrix\n",
        "from sklearn.metrics import precision_recall_curve\n",
        "cm = confusion_matrix(test_y, prediction)\n",
        "\n",
        "print (\"Confusion Matrix : \\n\", cm)\n",
        "\n",
        "from sklearn.metrics import cohen_kappa_score\n",
        "print(\"Cohen-kappa score:\", cohen_kappa_score(prediction,test_y))\n",
        "\n",
        "#calculate precision and recall\n",
        "precision, recall, thresholds = precision_recall_curve(test_y, prediction)\n",
        "\n",
        "#create precision recall curve\n",
        "fig, ax = plt.subplots()\n",
        "ax.plot(recall, precision, color='blue')\n",
        "\n",
        "#add axis labels to plot\n",
        "ax.set_title('Precision-Recall Curve for SVM')\n",
        "ax.set_ylabel('Precision')\n",
        "ax.set_xlabel('Recall')\n",
        "\n",
        "#display plot\n",
        "plt.show()"
      ]
    },
    {
      "cell_type": "markdown",
      "source": [
        "# Random Forest"
      ],
      "metadata": {
        "id": "CG085MmHqSJr"
      }
    },
    {
      "cell_type": "code",
      "source": [
        "#With Hyper Parameters Tuning\n",
        "#2-2,Randomforest\n",
        "#importing modules\n",
        "from sklearn.model_selection import GridSearchCV\n",
        "from sklearn.ensemble import RandomForestClassifier\n",
        "#making the instance\n",
        "model=RandomForestClassifier()\n",
        "#hyper parameters set\n",
        "params = {'criterion':['gini','entropy'],\n",
        "          'n_estimators':[n for n in range(1,150,15)],\n",
        "          'min_samples_leaf':[1,2,3],\n",
        "          'min_samples_split':[3,4,5,6,7], \n",
        "          'random_state':[123],\n",
        "          'n_jobs':[-1]}\n",
        "#Making models with hyper parameters sets\n",
        "rf_model = GridSearchCV(model, param_grid=params, n_jobs=-1)\n",
        "#learning\n",
        "rf_model.fit(train_X,train_y)\n",
        "#The best hyper parameters set\n",
        "print(\"Best Hyper Parameters:\\n\",rf_model.best_params_)\n",
        "#Prediction\n",
        "rf_prediction=rf_model.predict(test_X)\n",
        "#importing the metrics module\n",
        "from sklearn import metrics\n",
        "#evaluation(Accuracy)\n",
        "print(\"Testing set Accuracy:\",metrics.accuracy_score(rf_prediction,test_y))"
      ],
      "metadata": {
        "colab": {
          "base_uri": "https://localhost:8080/"
        },
        "id": "nfDO2F9Gv0LS",
        "outputId": "58d285d7-881b-4153-bbf9-ff7aaef7794a"
      },
      "execution_count": 15,
      "outputs": [
        {
          "output_type": "stream",
          "name": "stdout",
          "text": [
            "Best Hyper Parameters:\n",
            " {'criterion': 'gini', 'min_samples_leaf': 1, 'min_samples_split': 3, 'n_estimators': 16, 'n_jobs': -1, 'random_state': 123}\n",
            "Testing set Accuracy: 0.9866666666666667\n"
          ]
        }
      ]
    },
    {
      "cell_type": "code",
      "source": [
        "from sklearn.metrics import confusion_matrix\n",
        "from sklearn.metrics import precision_recall_curve\n",
        "cm = confusion_matrix(test_y, rf_prediction)\n",
        "\n",
        "print (\"Confusion Matrix : \\n\", cm)\n",
        "\n",
        "from sklearn.metrics import cohen_kappa_score\n",
        "print(\"Cohen-kappa score:\", cohen_kappa_score(rf_prediction,test_y))\n",
        "\n",
        "#calculate precision and recall\n",
        "precision, recall, thresholds = precision_recall_curve(test_y, rf_prediction)\n",
        "\n",
        "#create precision recall curve\n",
        "fig, ax = plt.subplots()\n",
        "ax.plot(recall, precision, color='blue')\n",
        "\n",
        "#add axis labels to plot\n",
        "ax.set_title('Precision-Recall Curve for SVM')\n",
        "ax.set_ylabel('Precision')\n",
        "ax.set_xlabel('Recall')\n",
        "\n",
        "#display plot\n",
        "plt.show()"
      ],
      "metadata": {
        "colab": {
          "base_uri": "https://localhost:8080/",
          "height": 364
        },
        "id": "zTL9PVuCG3el",
        "outputId": "51d4aeeb-55d9-4c3a-b77e-11fe479543ba"
      },
      "execution_count": 17,
      "outputs": [
        {
          "output_type": "stream",
          "name": "stdout",
          "text": [
            "Confusion Matrix : \n",
            " [[76  0]\n",
            " [ 2 72]]\n",
            "Cohen-kappa score: 0.9733191035218783\n"
          ]
        },
        {
          "output_type": "display_data",
          "data": {
            "text/plain": [
              "<Figure size 432x288 with 1 Axes>"
            ],
            "image/png": "[encoded data removed]"
          },
          "metadata": {
            "needs_background": "light"
          }
        }
      ]
    },
    {
      "cell_type": "code",
      "source": [
        "from numpy import mean\n",
        "from sklearn.datasets import make_classification\n",
        "from sklearn.model_selection import LeaveOneOut\n",
        "from sklearn.model_selection import KFold\n",
        "from sklearn.model_selection import cross_val_score\n",
        "from sklearn.ensemble import RandomForestClassifier\n",
        "from matplotlib import pyplot\n",
        "\n",
        "folds = range(2,11)\n",
        "means, mins, maxs = list(),list(),list()\n",
        "for k in folds:\n",
        "\tcv = KFold(n_splits=k, shuffle=True, random_state=1)\n",
        "\tk_mean, k_min, k_max = evaluate_model(cv)\n",
        "\tprint('> folds=%d, accuracy=%.3f (%.3f,%.3f)' % (k, k_mean, k_min, k_max))\n",
        "\tmeans.append(k_mean)\n",
        "\tmins.append(k_mean - k_min)\n",
        "\tmaxs.append(k_max - k_mean)\n",
        " \n",
        "\n",
        "ideal, _, _ = evaluate_model(LeaveOneOut())\n",
        "print('Ideal: %.3f' % ideal)\n",
        "pyplot.errorbar(folds, means, yerr=[mins, maxs], fmt='o')\n",
        "pyplot.plot(folds, [ideal for _ in range(len(folds))], color='r')\n",
        "pyplot.show()\n",
        " \n",
        "def evaluate_model(cv):\n",
        "\tscores = cross_val_score(model, train_X, train_y, scoring='accuracy', cv=cv, n_jobs=-1)\n",
        "\treturn mean(scores), scores.min(), scores.max()\n"
      ],
      "metadata": {
        "id": "IM0DjwAl4lII",
        "colab": {
          "base_uri": "https://localhost:8080/",
          "height": 439
        },
        "outputId": "96678b6d-e8b4-4ce2-e72a-5e042bbe2749"
      },
      "execution_count": 18,
      "outputs": [
        {
          "output_type": "stream",
          "name": "stdout",
          "text": [
            "> folds=2, accuracy=0.980 (0.976,0.984)\n",
            "> folds=3, accuracy=0.980 (0.970,0.988)\n",
            "> folds=4, accuracy=0.980 (0.960,0.992)\n",
            "> folds=5, accuracy=0.980 (0.970,0.990)\n",
            "> folds=6, accuracy=0.980 (0.940,1.000)\n",
            "> folds=7, accuracy=0.980 (0.958,1.000)\n",
            "> folds=8, accuracy=0.980 (0.952,1.000)\n",
            "> folds=9, accuracy=0.980 (0.946,1.000)\n",
            "> folds=10, accuracy=0.978 (0.940,1.000)\n",
            "Ideal: 0.980\n"
          ]
        },
        {
          "output_type": "display_data",
          "data": {
            "text/plain": [
              "<Figure size 432x288 with 1 Axes>"
            ],
            "image/png": "[encoded data removed]"
          },
          "metadata": {
            "needs_background": "light"
          }
        }
      ]
    },
    {
      "cell_type": "code",
      "source": [
        "from sklearn.metrics import confusion_matrix\n",
        "from sklearn.metrics import accuracy_score\n",
        "from sklearn.metrics import classification_report\n",
        "from sklearn.metrics import roc_auc_score\n",
        "from sklearn.metrics import log_loss\n",
        "results = confusion_matrix(test_y, rf_prediction)\n",
        "print ('Confusion Matrix :')\n",
        "print(results)\n",
        "print ('Accuracy Score is',accuracy_score(test_y, rf_prediction))\n",
        "print ('Classification Report : ')\n",
        "print (classification_report(test_y, rf_prediction))\n",
        "print('AUC-ROC:',roc_auc_score(test_y,rf_prediction))\n",
        "print('LOGLOSS Value is',log_loss(test_y, rf_prediction))"
      ],
      "metadata": {
        "colab": {
          "base_uri": "https://localhost:8080/"
        },
        "id": "sFRSMa4FmkKM",
        "outputId": "00f943a4-99bc-4163-9742-61b7c2a9cb20"
      },
      "execution_count": 19,
      "outputs": [
        {
          "output_type": "stream",
          "name": "stdout",
          "text": [
            "Confusion Matrix :\n",
            "[[76  0]\n",
            " [ 2 72]]\n",
            "Accuracy Score is 0.9866666666666667\n",
            "Classification Report : \n",
            "              precision    recall  f1-score   support\n",
            "\n",
            "           0       0.97      1.00      0.99        76\n",
            "           1       1.00      0.97      0.99        74\n",
            "\n",
            "    accuracy                           0.99       150\n",
            "   macro avg       0.99      0.99      0.99       150\n",
            "weighted avg       0.99      0.99      0.99       150\n",
            "\n",
            "AUC-ROC: 0.9864864864864865\n",
            "LOGLOSS Value is 0.46051701859881006\n"
          ]
        }
      ]
    },
    {
      "cell_type": "markdown",
      "source": [
        "# KNN"
      ],
      "metadata": {
        "id": "tKVnbrc-qMNW"
      }
    },
    {
      "cell_type": "code",
      "execution_count": 20,
      "metadata": {
        "colab": {
          "base_uri": "https://localhost:8080/"
        },
        "id": "gh11wPqxak4T",
        "outputId": "eb94a174-38ae-4012-9b12-d3eea8080490"
      },
      "outputs": [
        {
          "output_type": "stream",
          "name": "stdout",
          "text": [
            "Best leaf_size: 1\n",
            "Best p: 1\n",
            "Best n_neighbors: 1\n",
            "Confusion Matrix : \n",
            " [[76  0]\n",
            " [ 1 73]]\n",
            "Accuracy :  0.9933333333333333\n"
          ]
        }
      ],
      "source": [
        "from sklearn.neighbors import KNeighborsClassifier\n",
        "from sklearn.metrics import classification_report\n",
        "from sklearn.model_selection import train_test_split\n",
        "from sklearn.metrics import roc_auc_score\n",
        "from sklearn.model_selection import GridSearchCV\n",
        "\n",
        "#List Hyperparameters that we want to tune.\n",
        "leaf_size = list(range(1,50))\n",
        "n_neighbors = list(range(1,30))\n",
        "p=[1,2]\n",
        "#Convert to dictionary\n",
        "hyperparameters = dict(leaf_size=leaf_size, n_neighbors=n_neighbors, p=p)\n",
        "#Create new KNN object\n",
        "knn_2 = KNeighborsClassifier()\n",
        "#Use GridSearch\n",
        "clf = GridSearchCV(knn_2, hyperparameters, cv=10)\n",
        "#Fit the model\n",
        "best_model = clf.fit(train_X,train_y)\n",
        "#Print The value of best Hyperparameters\n",
        "print('Best leaf_size:', best_model.best_estimator_.get_params()['leaf_size'])\n",
        "print('Best p:', best_model.best_estimator_.get_params()['p'])\n",
        "print('Best n_neighbors:', best_model.best_estimator_.get_params()['n_neighbors'])\n",
        "\n",
        "knn_pred = clf.predict(test_X)\n",
        "\n",
        "from sklearn.metrics import confusion_matrix\n",
        "cm = confusion_matrix(test_y, knn_pred)\n",
        " \n",
        "print (\"Confusion Matrix : \\n\", cm)\n",
        "from sklearn.metrics import accuracy_score\n",
        "print (\"Accuracy : \", accuracy_score(test_y, knn_pred))"
      ]
    },
    {
      "cell_type": "code",
      "source": [
        "from numpy import mean\n",
        "from sklearn.datasets import make_classification\n",
        "from sklearn.model_selection import LeaveOneOut\n",
        "from sklearn.model_selection import KFold\n",
        "from sklearn.model_selection import cross_val_score\n",
        "from matplotlib import pyplot\n",
        "\n",
        "folds = range(2,11)\n",
        "means, mins, maxs = list(),list(),list()\n",
        "for k in folds:\n",
        "\tcv = KFold(n_splits=k, shuffle=True, random_state=1)\n",
        "\tk_mean, k_min, k_max = evaluate_model(cv)\n",
        "\tprint('> folds=%d, accuracy=%.3f (%.3f,%.3f)' % (k, k_mean, k_min, k_max))\n",
        "\tmeans.append(k_mean)\n",
        "\tmins.append(k_mean - k_min)\n",
        "\tmaxs.append(k_max - k_mean)\n",
        " \n",
        "\n",
        "ideal, _, _ = evaluate_model(LeaveOneOut())\n",
        "print('Ideal: %.3f' % ideal)\n",
        "pyplot.errorbar(folds, means, yerr=[mins, maxs], fmt='o')\n",
        "pyplot.plot(folds, [ideal for _ in range(len(folds))], color='r')\n",
        "pyplot.show()\n",
        " \n",
        "def evaluate_model(cv):\n",
        "\tscores = cross_val_score(clf, train_X, train_y, scoring='accuracy', cv=cv, n_jobs=-1)\n",
        "\treturn mean(scores), scores.min(), scores.max()"
      ],
      "metadata": {
        "colab": {
          "base_uri": "https://localhost:8080/",
          "height": 439
        },
        "id": "ZgP3f9pIkH7K",
        "outputId": "91b1db16-a6bf-43b6-ef48-368c8163e45c"
      },
      "execution_count": 21,
      "outputs": [
        {
          "output_type": "stream",
          "name": "stdout",
          "text": [
            "> folds=2, accuracy=0.969 (0.966,0.971)\n",
            "> folds=3, accuracy=0.977 (0.974,0.983)\n",
            "> folds=4, accuracy=0.974 (0.966,0.989)\n",
            "> folds=5, accuracy=0.977 (0.971,0.986)\n",
            "> folds=6, accuracy=0.977 (0.966,0.983)\n",
            "> folds=7, accuracy=0.980 (0.940,1.000)\n",
            "> folds=8, accuracy=0.974 (0.953,1.000)\n",
            "> folds=9, accuracy=0.980 (0.949,1.000)\n",
            "> folds=10, accuracy=0.977 (0.943,1.000)\n",
            "Ideal: 0.980\n"
          ]
        },
        {
          "output_type": "display_data",
          "data": {
            "text/plain": [
              "<Figure size 432x288 with 1 Axes>"
            ],
            "image/png": "[encoded data removed]"
          },
          "metadata": {
            "needs_background": "light"
          }
        }
      ]
    },
    {
      "cell_type": "code",
      "source": [
        "from sklearn.metrics import confusion_matrix\n",
        "from sklearn.metrics import precision_recall_curve\n",
        "cm = confusion_matrix(test_y, knn_pred)\n",
        "\n",
        "print (\"Confusion Matrix : \\n\", cm)\n",
        "\n",
        "from sklearn.metrics import cohen_kappa_score\n",
        "print(\"Cohen-kappa score:\", cohen_kappa_score(knn_pred,test_y))\n",
        "\n",
        "#calculate precision and recall\n",
        "precision, recall, thresholds = precision_recall_curve(test_y, knn_pred)\n",
        "\n",
        "#create precision recall curve\n",
        "fig, ax = plt.subplots()\n",
        "ax.plot(recall, precision, color='blue')\n",
        "\n",
        "#add axis labels to plot\n",
        "ax.set_title('Precision-Recall Curve for SVM')\n",
        "ax.set_ylabel('Precision')\n",
        "ax.set_xlabel('Recall')\n",
        "\n",
        "#display plot\n",
        "plt.show()"
      ],
      "metadata": {
        "colab": {
          "base_uri": "https://localhost:8080/",
          "height": 364
        },
        "id": "Gh-gXG9BplcM",
        "outputId": "cf73eed3-f149-46a0-8627-4bf82550ee33"
      },
      "execution_count": 22,
      "outputs": [
        {
          "output_type": "stream",
          "name": "stdout",
          "text": [
            "Confusion Matrix : \n",
            " [[76  0]\n",
            " [ 1 73]]\n",
            "Cohen-kappa score: 0.9866619242397296\n"
          ]
        },
        {
          "output_type": "display_data",
          "data": {
            "text/plain": [
              "<Figure size 432x288 with 1 Axes>"
            ],
            "image/png": "[encoded data removed]"
          },
          "metadata": {
            "needs_background": "light"
          }
        }
      ]
    },
    {
      "cell_type": "code",
      "source": [
        "from sklearn.metrics import confusion_matrix\n",
        "from sklearn.metrics import accuracy_score\n",
        "from sklearn.metrics import classification_report\n",
        "from sklearn.metrics import roc_auc_score\n",
        "from sklearn.metrics import log_loss\n",
        "results = confusion_matrix(test_y, knn_pred)\n",
        "print ('Confusion Matrix :')\n",
        "print(results)\n",
        "print ('Accuracy Score is',accuracy_score(test_y, knn_pred))\n",
        "print ('Classification Report : ')\n",
        "print (classification_report(test_y, knn_pred))\n",
        "print('AUC-ROC:',roc_auc_score(test_y,knn_pred))\n",
        "print('LOGLOSS Value is',log_loss(test_y, knn_pred))"
      ],
      "metadata": {
        "colab": {
          "base_uri": "https://localhost:8080/"
        },
        "id": "yactCpytp85n",
        "outputId": "297fddbe-1042-4ada-f868-0e7034e1cb63"
      },
      "execution_count": 23,
      "outputs": [
        {
          "output_type": "stream",
          "name": "stdout",
          "text": [
            "Confusion Matrix :\n",
            "[[76  0]\n",
            " [ 1 73]]\n",
            "Accuracy Score is 0.9933333333333333\n",
            "Classification Report : \n",
            "              precision    recall  f1-score   support\n",
            "\n",
            "           0       0.99      1.00      0.99        76\n",
            "           1       1.00      0.99      0.99        74\n",
            "\n",
            "    accuracy                           0.99       150\n",
            "   macro avg       0.99      0.99      0.99       150\n",
            "weighted avg       0.99      0.99      0.99       150\n",
            "\n",
            "AUC-ROC: 0.9932432432432432\n",
            "LOGLOSS Value is 0.2302585092994055\n"
          ]
        }
      ]
    }
  ],
  "metadata": {
    "colab": {
      "collapsed_sections": [],
      "name": "CKD_IEEE_Final.ipynb",
      "provenance": []
    },
    "kernelspec": {
      "display_name": "Python 3",
      "name": "python3"
    },
    "language_info": {
      "name": "python"
    },
    "accelerator": "GPU",
    "gpuClass": "standard"
  },
  "nbformat": 4,
  "nbformat_minor": 0
}